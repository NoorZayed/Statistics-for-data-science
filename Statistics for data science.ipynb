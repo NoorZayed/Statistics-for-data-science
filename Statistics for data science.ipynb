{
  "nbformat": 4,
  "nbformat_minor": 0,
  "metadata": {
    "colab": {
      "provenance": []
    },
    "kernelspec": {
      "name": "python3",
      "display_name": "Python 3"
    },
    "language_info": {
      "name": "python"
    }
  },
  "cells": [
    {
      "cell_type": "markdown",
      "source": [
        "\n",
        "#Name:Nour Zayed\n",
        "#ID:1210264\n",
        "#Assignment #3"
      ],
      "metadata": {
        "id": "XlLHn5CCzpUF"
      }
    },
    {
      "cell_type": "markdown",
      "source": [
        " **Import libraries**"
      ],
      "metadata": {
        "id": "ll5jWzFVx4c4"
      }
    },
    {
      "cell_type": "code",
      "execution_count": null,
      "metadata": {
        "id": "DpBC5hhwx12Z"
      },
      "outputs": [],
      "source": [
        "import numpy as np\n",
        "import matplotlib.pyplot as plt # Import matplotlib.pyplot for plotting functionality\n",
        "from scipy.stats import norm  # Normal distribution object\n"
      ]
    },
    {
      "cell_type": "markdown",
      "source": [
        " **Generate a normally distributed sample of size 10,000,000 with mean = 1500, and standard deviation = 700, with my ID as random seed.**"
      ],
      "metadata": {
        "id": "c9aFagOtywdw"
      }
    },
    {
      "cell_type": "code",
      "source": [
        "# Set the random seed(ID)\n",
        "np.random.seed(1210264)\n",
        "# Define parameters\n",
        "size = 10000000  # Sample size\n",
        "mean = 1500      # Mean of the distribution\n",
        "std = 700        # Standard deviation of the distribution\n",
        "\n",
        "# Generate normally distributed sample data\n",
        "sample = np.random.normal(mean, std, size)\n",
        "print(sample)\n"
      ],
      "metadata": {
        "colab": {
          "base_uri": "https://localhost:8080/"
        },
        "id": "S4eSRdaby37Y",
        "outputId": "7b5f1b6d-3f4e-40b7-a826-60c6fcbc5090"
      },
      "execution_count": null,
      "outputs": [
        {
          "output_type": "stream",
          "name": "stdout",
          "text": [
            "[2095.1557182  1085.57160963 2057.85403359 ... 1310.87691993 1506.03527509\n",
            " 1431.78764962]\n"
          ]
        }
      ]
    },
    {
      "cell_type": "markdown",
      "source": [
        "**Assume the data set generated above is the population, sample randomly the following samples from population:**\n",
        "• 10\n",
        "• 100\n",
        "• 1,000\n",
        "• 10,000"
      ],
      "metadata": {
        "id": "v1STwLEJ0WTK"
      }
    },
    {
      "cell_type": "code",
      "source": [
        "# Sample sizes\n",
        "sample_sizes = [10, 100, 1000, 10000]\n",
        "\n",
        "# Sample from population\n",
        "samples_population = [np.random.choice(sample, size=s,replace=False) for s in sample_sizes]\n"
      ],
      "metadata": {
        "id": "lupi55lz0bUi"
      },
      "execution_count": null,
      "outputs": []
    },
    {
      "cell_type": "markdown",
      "source": [
        "# • **Answer the following questions:**\n",
        "\n",
        "\n",
        "1.    ***What is the relation between the sample size and the sampling error?***\n",
        "\n",
        "2.    ***Which sample is more representative of the population? justify your answer***\n",
        "\n",
        "\n"
      ],
      "metadata": {
        "id": "7Ei6fx3K13J9"
      }
    },
    {
      "cell_type": "markdown",
      "source": [
        "Answers:\n",
        "\n",
        "1.  Sampling error is affected by a number of factors including sample size, sample design, the sampling fraction and the variability within the population.\n",
        "\n",
        " In general, larger sample sizes decrease the sampling error, however this decrease is not directly proportional. As a rough rule of thumb, you need to increase the sample size fourfold to halve the sampling error.\n",
        " (We can say the relation  is inversely proportional.)\n",
        "\n",
        "\n",
        "\n"
      ],
      "metadata": {
        "id": "GA_x_R7ExeJj"
      }
    },
    {
      "cell_type": "code",
      "source": [
        "\n",
        "# Number of simulations (to average out random variations)\n",
        "num_simulations = 100\n",
        "\n",
        "# Function to calculate sampling error (absolute difference between sample mean and population mean)\n",
        "def calculate_sampling_error(sample_size):\n",
        "  # Generate a sample from the population\n",
        "  sample = np.random.normal(mean, std, sample_size)\n",
        "  # Calculate sample mean\n",
        "  sample_mean = np.mean(sample)\n",
        "  # Calculate sampling error\n",
        "  sampling_error = abs(sample_mean - mean)\n",
        "  return sampling_error\n",
        "\n",
        "# Average sampling errors for each sample size\n",
        "average_errors = []\n",
        "for sample_size in sample_sizes:\n",
        "  # List to store sampling errors from simulations\n",
        "  sampling_errors = []\n",
        "  for _ in range(num_simulations):\n",
        "    sampling_errors.append(calculate_sampling_error(sample_size))\n",
        "  # Average sampling error across simulations for this sample size\n",
        "  average_errors.append(np.mean(sampling_errors))\n",
        "\n",
        "# Print results\n",
        "print(\"\\n**Sample Size vs. Average Sampling Error:**\")\n",
        "for i, sample_size in enumerate(sample_sizes):\n",
        "  print(f\"  - Sample size: {sample_size}, Average Sampling Error: {average_errors[i]}\")\n",
        "\n",
        "# Visualization (optional)\n",
        "import matplotlib.pyplot as plt\n",
        "\n",
        "plt.plot(sample_sizes, average_errors, marker='o')\n",
        "plt.xlabel('Sample Size')\n",
        "plt.ylabel('Average Sampling Error')\n",
        "plt.title('Sample Size vs. Average Sampling Error (Simulated)')\n",
        "plt.grid(True)\n",
        "plt.show()\n"
      ],
      "metadata": {
        "colab": {
          "base_uri": "https://localhost:8080/",
          "height": 579
        },
        "id": "8TcFm_nZLdU9",
        "outputId": "f6827593-93c1-4303-c369-be2f7727adf1"
      },
      "execution_count": null,
      "outputs": [
        {
          "output_type": "stream",
          "name": "stdout",
          "text": [
            "\n",
            "**Sample Size vs. Average Sampling Error:**\n",
            "  - Sample size: 10, Average Sampling Error: 160.55057124735123\n",
            "  - Sample size: 100, Average Sampling Error: 52.25161804436556\n",
            "  - Sample size: 1000, Average Sampling Error: 15.660293813524284\n",
            "  - Sample size: 10000, Average Sampling Error: 4.981875653058589\n"
          ]
        },
        {
          "output_type": "display_data",
          "data": {
            "text/plain": [
              "<Figure size 640x480 with 1 Axes>"
            ],
            "image/png": "[encoded data removed]"
          },
          "metadata": {}
        }
      ]
    },
    {
      "cell_type": "markdown",
      "source": [
        "\n",
        "2.  Simple random sampling is the best method for representative sampling because each member of a population has an equal chance of being chosen; this diminishes the likelihood of biased results.\n",
        "\n",
        "\n",
        "https://www.scribbr.com/wp-content/uploads/2023/12/simple-random-sampling.webp\n",
        "\n",
        "In the context of the code, the sample with the largest size, 10,000, is the most representative of the population. This is because larger samples tend to have lower sampling error. Sampling error refers to the difference between a statistic calculated from a sample (e.g., sample mean) and the corresponding population parameter (e.g., population mean). A larger sample is more likely to include elements that accurately reflect the characteristics of the entire population, leading to a more accurate representation."
      ],
      "metadata": {
        "id": "zDz8KCkEynBE"
      }
    },
    {
      "cell_type": "markdown",
      "source": [
        "\n",
        "# *   **Use the representative sample to answer the following questions:**\n",
        "\n",
        "\n",
        "\n"
      ],
      "metadata": {
        "id": "LP8yL1MJr3bv"
      }
    },
    {
      "cell_type": "code",
      "source": [
        "# Analysis of representative sample (10,000)\n",
        "representative_sample = samples_population[-1]  # Last element is sample size 10,000"
      ],
      "metadata": {
        "id": "CUFapYNer4F7"
      },
      "execution_count": null,
      "outputs": []
    },
    {
      "cell_type": "markdown",
      "source": [
        "\n",
        "1.  **Is the sample randomly distributed ?** Justify your answer\n",
        "\n",
        "\n"
      ],
      "metadata": {
        "id": "6INp5-QL2i_L"
      }
    },
    {
      "cell_type": "code",
      "source": [
        "plt.hist(representative_sample, color='red', edgecolor='black', alpha=0.7)  # Adjust color and transparency\n",
        "# Add labels and title:\n",
        "plt.xlabel('Value')  # Label for the x-axis\n",
        "plt.ylabel('Frequency')  # Label for the y-axis\n",
        "plt.title('Distribution of Representative Sample (10,000)')  # Title of the plot\n",
        "plt.show()\n"
      ],
      "metadata": {
        "colab": {
          "base_uri": "https://localhost:8080/",
          "height": 472
        },
        "id": "i4O0UcRD2tem",
        "outputId": "18163d68-72e6-42a2-eec3-80d1728e8e8e"
      },
      "execution_count": null,
      "outputs": [
        {
          "output_type": "display_data",
          "data": {
            "text/plain": [
              "<Figure size 640x480 with 1 Axes>"
            ],
            "image/png": "[encoded data removed]"
          },
          "metadata": {}
        }
      ]
    },
    {
      "cell_type": "markdown",
      "source": [
        "\n",
        "*   By the graph : it's normal distribution\n",
        "\n",
        "*   A normal distribution is a true symmetric distribution of observed values.\n",
        "\n",
        "When a histogram is constructed on values that are normally distributed, the shape of columns form a symmetrical bell shape.  This is why this distribution is also known as a 'normal curve' or 'bell curve'.\n"
      ],
      "metadata": {
        "id": "YwpQ5soQ2s3L"
      }
    },
    {
      "cell_type": "markdown",
      "source": [
        "2.   **What is the value that 50% of the data below it?**\n",
        "\n"
      ],
      "metadata": {
        "id": "r4sUP4F-2xPn"
      }
    },
    {
      "cell_type": "code",
      "source": [
        "# Median (50th percentile)\n",
        "median = np.median(representative_sample)\n",
        "print(f\"\\n The Median (50%)= {median}\")"
      ],
      "metadata": {
        "colab": {
          "base_uri": "https://localhost:8080/"
        },
        "id": "DSCC5kGP24Kp",
        "outputId": "84315975-6e7a-4a91-f488-7fb0afade86b"
      },
      "execution_count": null,
      "outputs": [
        {
          "output_type": "stream",
          "name": "stdout",
          "text": [
            "\n",
            " The Median (50%)= 1500.3461108114448\n"
          ]
        }
      ]
    },
    {
      "cell_type": "markdown",
      "source": [
        "\n",
        "2.   **What is the value that 75% of the data below it?**\n",
        "\n"
      ],
      "metadata": {
        "id": "Boq2YGSo77_w"
      }
    },
    {
      "cell_type": "code",
      "source": [
        "# 75th percentile\n",
        "percentile_75 = np.percentile(representative_sample, 75)\n",
        "print(f\"75% = {percentile_75}\")"
      ],
      "metadata": {
        "colab": {
          "base_uri": "https://localhost:8080/"
        },
        "id": "1GC0rXdh8FMR",
        "outputId": "3b13a6e7-2f3b-4a0f-966b-146fb6079298"
      },
      "execution_count": null,
      "outputs": [
        {
          "output_type": "stream",
          "name": "stdout",
          "text": [
            "75% = 1967.1159660482645\n"
          ]
        }
      ]
    },
    {
      "cell_type": "markdown",
      "source": [
        "\n",
        "\n",
        "3.   **What is the value that 25% of the data below it?**\n",
        "\n",
        "\n"
      ],
      "metadata": {
        "id": "xm4_RRsd8ZxI"
      }
    },
    {
      "cell_type": "code",
      "source": [
        "# 25th percentile\n",
        "percentile_25 = np.percentile(representative_sample, 25)\n",
        "print(f\"25% = {percentile_25}\")"
      ],
      "metadata": {
        "colab": {
          "base_uri": "https://localhost:8080/"
        },
        "id": "VvxpOE8W8ZNt",
        "outputId": "628d03d9-04eb-417e-b6d1-184546d3d7e6"
      },
      "execution_count": null,
      "outputs": [
        {
          "output_type": "stream",
          "name": "stdout",
          "text": [
            "25% = 1025.3941799301892\n"
          ]
        }
      ]
    },
    {
      "cell_type": "markdown",
      "source": [
        "\n",
        "\n",
        "4.   **What are the values calculated in b, c, and d are statistically called ?**\n",
        "\n",
        "\n"
      ],
      "metadata": {
        "id": "M671qWgy9V2-"
      }
    },
    {
      "cell_type": "markdown",
      "source": [
        "answer:\n",
        "\n",
        "1.   The value in (b) is Median: 50th percentile\n",
        "2.   The value in (c) is called the third quartile (Q3).\n",
        "3.   The value in (d) is called the first quartile (Q1).\n",
        "\n"
      ],
      "metadata": {
        "id": "YW_K-VbRq342"
      }
    },
    {
      "cell_type": "code",
      "source": [
        "print(\"\\nStatistical terms:\")\n",
        "print(f\"  b is Median: 50th percentile\")\n",
        "print(f\"  c & d are Quartiles: Divide data into fourths (25th & 75th percentiles)\")"
      ],
      "metadata": {
        "colab": {
          "base_uri": "https://localhost:8080/"
        },
        "id": "HP-5SWcX9mg3",
        "outputId": "1fe3a403-bdb1-4040-8820-0fc88357eb1f"
      },
      "execution_count": null,
      "outputs": [
        {
          "output_type": "stream",
          "name": "stdout",
          "text": [
            "\n",
            "Statistical terms:\n",
            "  b is Median: 50th percentile\n",
            "  c & d are Quartiles: Divide data into fourths (25th & 75th percentiles)\n"
          ]
        }
      ]
    }
  ]
}